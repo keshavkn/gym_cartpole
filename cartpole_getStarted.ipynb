{
 "cells": [
  {
   "cell_type": "code",
   "execution_count": 16,
   "metadata": {
    "collapsed": false,
    "deletable": true,
    "editable": true
   },
   "outputs": [],
   "source": [
    "import matplotlib.pyplot as plt\n",
    "from IPython import display\n",
    "%matplotlib inline\n",
    "import time"
   ]
  },
  {
   "cell_type": "code",
   "execution_count": 17,
   "metadata": {
    "collapsed": false
   },
   "outputs": [
    {
     "data": {
      "text/plain": [
       "array([ 0.0451614 , -0.04189069,  0.02686274, -0.00647236])"
      ]
     },
     "execution_count": 17,
     "metadata": {},
     "output_type": "execute_result"
    }
   ],
   "source": [
    "import gym\n",
    "env = gym.make('CartPole-v1')\n",
    "env.reset()"
   ]
  },
  {
   "cell_type": "code",
   "execution_count": 18,
   "metadata": {
    "collapsed": false,
    "deletable": true,
    "editable": true
   },
   "outputs": [
    {
     "data": {
      "text/plain": [
       "<function matplotlib.pyplot.gcf>"
      ]
     },
     "metadata": {},
     "output_type": "display_data"
    },
    {
     "name": "stdout",
     "output_type": "stream",
     "text": [
      "Step 0:\n",
      "action: 0\n",
      "observation: [ 0.04432359 -0.23738738  0.0267333   0.29456359]\n",
      "reward: 1.0\n",
      "done: False\n",
      "info: {}\n"
     ]
    },
    {
     "data": {
      "text/plain": [
       "<function matplotlib.pyplot.gcf>"
      ]
     },
     "metadata": {},
     "output_type": "display_data"
    },
    {
     "name": "stdout",
     "output_type": "stream",
     "text": [
      "Step 1:\n",
      "action: 0\n",
      "observation: [ 0.03957584 -0.43288006  0.03262457  0.59555648]\n",
      "reward: 1.0\n",
      "done: False\n",
      "info: {}\n"
     ]
    },
    {
     "data": {
      "text/plain": [
       "<function matplotlib.pyplot.gcf>"
      ]
     },
     "metadata": {},
     "output_type": "display_data"
    },
    {
     "name": "stdout",
     "output_type": "stream",
     "text": [
      "Step 2:\n",
      "action: 1\n",
      "observation: [ 0.03091824 -0.23822953  0.0445357   0.31332598]\n",
      "reward: 1.0\n",
      "done: False\n",
      "info: {}\n"
     ]
    },
    {
     "data": {
      "text/plain": [
       "<function matplotlib.pyplot.gcf>"
      ]
     },
     "metadata": {},
     "output_type": "display_data"
    },
    {
     "name": "stdout",
     "output_type": "stream",
     "text": [
      "Step 3:\n",
      "action: 1\n",
      "observation: [ 0.02615365 -0.04376938  0.05080222  0.03501414]\n",
      "reward: 1.0\n",
      "done: False\n",
      "info: {}\n"
     ]
    },
    {
     "data": {
      "text/plain": [
       "<function matplotlib.pyplot.gcf>"
      ]
     },
     "metadata": {},
     "output_type": "display_data"
    },
    {
     "name": "stdout",
     "output_type": "stream",
     "text": [
      "Step 4:\n",
      "action: 1\n",
      "observation: [ 0.02527826  0.15058863  0.0515025  -0.24121732]\n",
      "reward: 1.0\n",
      "done: False\n",
      "info: {}\n"
     ]
    },
    {
     "data": {
      "text/plain": [
       "<function matplotlib.pyplot.gcf>"
      ]
     },
     "metadata": {},
     "output_type": "display_data"
    },
    {
     "name": "stdout",
     "output_type": "stream",
     "text": [
      "Step 5:\n",
      "action: 1\n",
      "observation: [ 0.02829003  0.3449385   0.04667816 -0.51722053]\n",
      "reward: 1.0\n",
      "done: False\n",
      "info: {}\n"
     ]
    },
    {
     "data": {
      "text/plain": [
       "<function matplotlib.pyplot.gcf>"
      ]
     },
     "metadata": {},
     "output_type": "display_data"
    },
    {
     "name": "stdout",
     "output_type": "stream",
     "text": [
      "Step 6:\n",
      "action: 1\n",
      "observation: [ 0.0351888   0.5393732   0.03633374 -0.7948365 ]\n",
      "reward: 1.0\n",
      "done: False\n",
      "info: {}\n"
     ]
    },
    {
     "data": {
      "text/plain": [
       "<function matplotlib.pyplot.gcf>"
      ]
     },
     "metadata": {},
     "output_type": "display_data"
    },
    {
     "name": "stdout",
     "output_type": "stream",
     "text": [
      "Step 7:\n",
      "action: 0\n",
      "observation: [ 0.04597627  0.3437719   0.02043701 -0.49094843]\n",
      "reward: 1.0\n",
      "done: False\n",
      "info: {}\n"
     ]
    },
    {
     "data": {
      "text/plain": [
       "<function matplotlib.pyplot.gcf>"
      ]
     },
     "metadata": {},
     "output_type": "display_data"
    },
    {
     "name": "stdout",
     "output_type": "stream",
     "text": [
      "Step 8:\n",
      "action: 0\n",
      "observation: [ 0.05285171  0.14836771  0.01061805 -0.19189529]\n",
      "reward: 1.0\n",
      "done: False\n",
      "info: {}\n"
     ]
    },
    {
     "data": {
      "text/plain": [
       "<function matplotlib.pyplot.gcf>"
      ]
     },
     "metadata": {},
     "output_type": "display_data"
    },
    {
     "name": "stdout",
     "output_type": "stream",
     "text": [
      "Step 9:\n",
      "action: 0\n",
      "observation: [ 0.05581906 -0.04690452  0.00678014  0.10411818]\n",
      "reward: 1.0\n",
      "done: False\n",
      "info: {}\n"
     ]
    },
    {
     "data": {
      "text/plain": [
       "<function matplotlib.pyplot.gcf>"
      ]
     },
     "metadata": {},
     "output_type": "display_data"
    },
    {
     "name": "stdout",
     "output_type": "stream",
     "text": [
      "Step 10:\n",
      "action: 1\n",
      "observation: [ 0.05488097  0.14811962  0.0088625  -0.18641795]\n",
      "reward: 1.0\n",
      "done: False\n",
      "info: {}\n"
     ]
    },
    {
     "data": {
      "text/plain": [
       "<function matplotlib.pyplot.gcf>"
      ]
     },
     "metadata": {},
     "output_type": "display_data"
    },
    {
     "name": "stdout",
     "output_type": "stream",
     "text": [
      "Step 11:\n",
      "action: 0\n",
      "observation: [ 0.05784336 -0.04712801  0.00513414  0.10904753]\n",
      "reward: 1.0\n",
      "done: False\n",
      "info: {}\n"
     ]
    },
    {
     "data": {
      "text/plain": [
       "<function matplotlib.pyplot.gcf>"
      ]
     },
     "metadata": {},
     "output_type": "display_data"
    },
    {
     "name": "stdout",
     "output_type": "stream",
     "text": [
      "Step 12:\n",
      "action: 1\n",
      "observation: [ 0.0569008   0.14792     0.0073151  -0.18201119]\n",
      "reward: 1.0\n",
      "done: False\n",
      "info: {}\n"
     ]
    },
    {
     "data": {
      "text/plain": [
       "<function matplotlib.pyplot.gcf>"
      ]
     },
     "metadata": {},
     "output_type": "display_data"
    },
    {
     "name": "stdout",
     "output_type": "stream",
     "text": [
      "Step 13:\n",
      "action: 0\n",
      "observation: [ 0.0598592  -0.04730586  0.00367487  0.11297038]\n",
      "reward: 1.0\n",
      "done: False\n",
      "info: {}\n"
     ]
    },
    {
     "data": {
      "text/plain": [
       "<function matplotlib.pyplot.gcf>"
      ]
     },
     "metadata": {},
     "output_type": "display_data"
    },
    {
     "name": "stdout",
     "output_type": "stream",
     "text": [
      "Step 14:\n",
      "action: 1\n",
      "observation: [ 0.05891309  0.14776325  0.00593428 -0.17855089]\n",
      "reward: 1.0\n",
      "done: False\n",
      "info: {}\n"
     ]
    },
    {
     "data": {
      "text/plain": [
       "<function matplotlib.pyplot.gcf>"
      ]
     },
     "metadata": {},
     "output_type": "display_data"
    },
    {
     "name": "stdout",
     "output_type": "stream",
     "text": [
      "Step 15:\n",
      "action: 0\n",
      "observation: [ 0.06186835 -0.04744312  0.00236326  0.11599817]\n",
      "reward: 1.0\n",
      "done: False\n",
      "info: {}\n"
     ]
    },
    {
     "data": {
      "text/plain": [
       "<function matplotlib.pyplot.gcf>"
      ]
     },
     "metadata": {},
     "output_type": "display_data"
    },
    {
     "name": "stdout",
     "output_type": "stream",
     "text": [
      "Step 16:\n",
      "action: 0\n",
      "observation: [ 0.06091949 -0.24259886  0.00468322  0.40942575]\n",
      "reward: 1.0\n",
      "done: False\n",
      "info: {}\n"
     ]
    },
    {
     "data": {
      "text/plain": [
       "<function matplotlib.pyplot.gcf>"
      ]
     },
     "metadata": {},
     "output_type": "display_data"
    },
    {
     "name": "stdout",
     "output_type": "stream",
     "text": [
      "Step 17:\n",
      "action: 1\n",
      "observation: [ 0.05606751 -0.04754362  0.01287174  0.11822296]\n",
      "reward: 1.0\n",
      "done: False\n",
      "info: {}\n"
     ]
    },
    {
     "data": {
      "text/plain": [
       "<function matplotlib.pyplot.gcf>"
      ]
     },
     "metadata": {},
     "output_type": "display_data"
    },
    {
     "name": "stdout",
     "output_type": "stream",
     "text": [
      "Step 18:\n",
      "action: 0\n",
      "observation: [ 0.05511664 -0.2428476   0.0152362   0.41493886]\n",
      "reward: 1.0\n",
      "done: False\n",
      "info: {}\n"
     ]
    },
    {
     "data": {
      "text/plain": [
       "<function matplotlib.pyplot.gcf>"
      ]
     },
     "metadata": {},
     "output_type": "display_data"
    },
    {
     "name": "stdout",
     "output_type": "stream",
     "text": [
      "Step 19:\n",
      "action: 1\n",
      "observation: [ 0.05025969 -0.04794488  0.02353498  0.12709798]\n",
      "reward: 1.0\n",
      "done: False\n",
      "info: {}\n"
     ]
    },
    {
     "data": {
      "text/plain": [
       "<function matplotlib.pyplot.gcf>"
      ]
     },
     "metadata": {},
     "output_type": "display_data"
    },
    {
     "name": "stdout",
     "output_type": "stream",
     "text": [
      "Step 20:\n",
      "action: 1\n",
      "observation: [ 0.04930079  0.14683215  0.02607694 -0.15806801]\n",
      "reward: 1.0\n",
      "done: False\n",
      "info: {}\n"
     ]
    },
    {
     "data": {
      "text/plain": [
       "<function matplotlib.pyplot.gcf>"
      ]
     },
     "metadata": {},
     "output_type": "display_data"
    },
    {
     "name": "stdout",
     "output_type": "stream",
     "text": [
      "Step 21:\n",
      "action: 1\n",
      "observation: [ 0.05223743  0.34157124  0.02291558 -0.44241158]\n",
      "reward: 1.0\n",
      "done: False\n",
      "info: {}\n"
     ]
    },
    {
     "data": {
      "text/plain": [
       "<function matplotlib.pyplot.gcf>"
      ]
     },
     "metadata": {},
     "output_type": "display_data"
    },
    {
     "name": "stdout",
     "output_type": "stream",
     "text": [
      "Step 22:\n",
      "action: 1\n",
      "observation: [ 0.05906886  0.53636155  0.01406734 -0.72778375]\n",
      "reward: 1.0\n",
      "done: False\n",
      "info: {}\n"
     ]
    },
    {
     "data": {
      "text/plain": [
       "<function matplotlib.pyplot.gcf>"
      ]
     },
     "metadata": {},
     "output_type": "display_data"
    },
    {
     "name": "stdout",
     "output_type": "stream",
     "text": [
      "Step 23:\n",
      "action: 0\n",
      "observation: [ 0.06979609  0.34104798 -0.00048833 -0.43070671]\n",
      "reward: 1.0\n",
      "done: False\n",
      "info: {}\n"
     ]
    },
    {
     "data": {
      "text/plain": [
       "<function matplotlib.pyplot.gcf>"
      ]
     },
     "metadata": {},
     "output_type": "display_data"
    },
    {
     "name": "stdout",
     "output_type": "stream",
     "text": [
      "Step 24:\n",
      "action: 1\n",
      "observation: [ 0.07661705  0.53617684 -0.00910247 -0.72354354]\n",
      "reward: 1.0\n",
      "done: False\n",
      "info: {}\n"
     ]
    },
    {
     "data": {
      "text/plain": [
       "<function matplotlib.pyplot.gcf>"
      ]
     },
     "metadata": {},
     "output_type": "display_data"
    },
    {
     "name": "stdout",
     "output_type": "stream",
     "text": [
      "Step 25:\n",
      "action: 1\n",
      "observation: [ 0.08734058  0.7314235  -0.02357334 -1.01907748]\n",
      "reward: 1.0\n",
      "done: False\n",
      "info: {}\n"
     ]
    },
    {
     "data": {
      "text/plain": [
       "<function matplotlib.pyplot.gcf>"
      ]
     },
     "metadata": {},
     "output_type": "display_data"
    },
    {
     "name": "stdout",
     "output_type": "stream",
     "text": [
      "Step 26:\n",
      "action: 1\n",
      "observation: [ 0.10196905  0.92685157 -0.04395489 -1.31906806]\n",
      "reward: 1.0\n",
      "done: False\n",
      "info: {}\n"
     ]
    },
    {
     "data": {
      "text/plain": [
       "<function matplotlib.pyplot.gcf>"
      ]
     },
     "metadata": {},
     "output_type": "display_data"
    },
    {
     "name": "stdout",
     "output_type": "stream",
     "text": [
      "Step 27:\n",
      "action: 1\n",
      "observation: [ 0.12050609  1.12250086 -0.07033625 -1.62517711]\n",
      "reward: 1.0\n",
      "done: False\n",
      "info: {}\n"
     ]
    },
    {
     "data": {
      "text/plain": [
       "<function matplotlib.pyplot.gcf>"
      ]
     },
     "metadata": {},
     "output_type": "display_data"
    },
    {
     "name": "stdout",
     "output_type": "stream",
     "text": [
      "Step 28:\n",
      "action: 1\n",
      "observation: [ 0.1429561   1.31837633 -0.10283979 -1.93892566]\n",
      "reward: 1.0\n",
      "done: False\n",
      "info: {}\n"
     ]
    },
    {
     "data": {
      "text/plain": [
       "<function matplotlib.pyplot.gcf>"
      ]
     },
     "metadata": {},
     "output_type": "display_data"
    },
    {
     "name": "stdout",
     "output_type": "stream",
     "text": [
      "Step 29:\n",
      "action: 1\n",
      "observation: [ 0.16932363  1.51443507 -0.1416183  -2.26164162]\n",
      "reward: 1.0\n",
      "done: False\n",
      "info: {}\n"
     ]
    },
    {
     "data": {
      "text/plain": [
       "<function matplotlib.pyplot.gcf>"
      ]
     },
     "metadata": {},
     "output_type": "display_data"
    },
    {
     "name": "stdout",
     "output_type": "stream",
     "text": [
      "Step 30:\n",
      "action: 0\n",
      "observation: [ 0.19961233  1.32089485 -0.18685113 -2.01573438]\n",
      "reward: 1.0\n",
      "done: False\n",
      "info: {}\n"
     ]
    },
    {
     "data": {
      "text/plain": [
       "<function matplotlib.pyplot.gcf>"
      ]
     },
     "metadata": {},
     "output_type": "display_data"
    },
    {
     "name": "stdout",
     "output_type": "stream",
     "text": [
      "Step 31:\n",
      "action: 1\n",
      "observation: [ 0.22603023  1.51740201 -0.22716582 -2.35997966]\n",
      "reward: 1.0\n",
      "done: True\n",
      "info: {}\n"
     ]
    },
    {
     "data": {
      "image/png": "[encoded data removed]",
      "text/plain": [
       "<matplotlib.figure.Figure at 0x1e15c7f5160>"
      ]
     },
     "metadata": {},
     "output_type": "display_data"
    }
   ],
   "source": [
    "for step_index in range(1000):\n",
    "    plt.imshow(env.render(mode='rgb_array'))\n",
    "    display.display(plt.gcf)\n",
    "    time.sleep(0.5)\n",
    "    action = env.action_space.sample()\n",
    "    observation, reward, done, info = env.step(action)\n",
    "    print(\"Step {}:\".format(step_index))\n",
    "    print(\"action: {}\".format(action))\n",
    "    print(\"observation: {}\".format(observation))\n",
    "    print(\"reward: {}\".format(reward))\n",
    "    print(\"done: {}\".format(done))\n",
    "    print(\"info: {}\".format(info))\n",
    "    if done:\n",
    "        break\n",
    "env.close()"
   ]
  },
  {
   "cell_type": "code",
   "execution_count": null,
   "metadata": {
    "collapsed": true
   },
   "outputs": [],
   "source": []
  }
 ],
 "metadata": {
  "kernelspec": {
   "display_name": "Python 3",
   "language": "python",
   "name": "python3"
  },
  "language_info": {
   "codemirror_mode": {
    "name": "ipython",
    "version": 3
   },
   "file_extension": ".py",
   "mimetype": "text/x-python",
   "name": "python",
   "nbconvert_exporter": "python",
   "pygments_lexer": "ipython3",
   "version": "3.6.2"
  }
 },
 "nbformat": 4,
 "nbformat_minor": 2
}
